{
 "cells": [
  {
   "cell_type": "markdown",
   "metadata": {},
   "source": [
    "a general Reference to NumPy Library\n",
    "to install numpy :\n",
    "pip install numpy"
   ]
  },
  {
   "cell_type": "markdown",
   "metadata": {},
   "source": [
    "Load in Numpy"
   ]
  },
  {
   "cell_type": "code",
   "execution_count": null,
   "metadata": {},
   "outputs": [],
   "source": [
    "import numpy as np"
   ]
  },
  {
   "cell_type": "markdown",
   "metadata": {},
   "source": [
    "Creating arrays"
   ]
  },
  {
   "cell_type": "code",
   "execution_count": null,
   "metadata": {},
   "outputs": [],
   "source": [
    "a = np.array([1,2,3])\n",
    "print(a)\n",
    "print(a.shape)#Dimension with no of items\n",
    "print(a.dtype)#Data type\n",
    "print(a.ndim)#dimension\n",
    "print(a.size)#no of elements \n",
    "print(a.itemsize)# size of each item in byte\n",
    "print(a[0])\n",
    "a[0]=8\n",
    "print(a[0])\n",
    "\n"
   ]
  }
 ],
 "metadata": {
  "kernelspec": {
   "display_name": "Python 3.10.5 64-bit",
   "language": "python",
   "name": "python3"
  },
  "language_info": {
   "codemirror_mode": {
    "name": "ipython",
    "version": 3
   },
   "file_extension": ".py",
   "mimetype": "text/x-python",
   "name": "python",
   "nbconvert_exporter": "python",
   "pygments_lexer": "ipython3",
   "version": "3.10.5"
  },
  "orig_nbformat": 4,
  "vscode": {
   "interpreter": {
    "hash": "1fe72cf2f81a76a7e35048dba2ce91893ea59019fa3aaecff5c1a4e409f7a5f9"
   }
  }
 },
 "nbformat": 4,
 "nbformat_minor": 2
}
